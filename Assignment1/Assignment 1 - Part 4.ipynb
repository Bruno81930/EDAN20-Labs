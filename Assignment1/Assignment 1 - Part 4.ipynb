{
 "cells": [
  {
   "cell_type": "markdown",
   "metadata": {},
   "source": [
    "# Assignment 1: Building an inverted index"
   ]
  },
  {
   "cell_type": "markdown",
   "metadata": {},
   "source": [
    "## Part 4: Representing Documents with tf-idf"
   ]
  },
  {
   "cell_type": "markdown",
   "metadata": {},
   "source": [
    "Once you have created the index, you will represent each document in your corpus as a word vector. You will define the value of a word in a document with the tf-idf metric. Tf will be the relative frequency of the term in the document and idf, the logarithm base 10 of the inverse document frequency. "
   ]
  },
  {
   "cell_type": "code",
   "execution_count": 39,
   "metadata": {},
   "outputs": [
    {
     "data": {
      "text/plain": [
       "6.2846093167673765e-06"
      ]
     },
     "execution_count": 39,
     "metadata": {},
     "output_type": "execute_result"
    }
   ],
   "source": [
    "import os\n",
    "import regex as re\n",
    "import pickle\n",
    "import math\n",
    "\n",
    "index = pickle.load(open(\"master_index.idx\", \"rb\"))\n",
    "\n",
    "def get_total_number_words_in(document):\n",
    "    return len(re.findall('\\p{Latin}+', open('Selma/' + document).read().lower()))\n",
    "    \n",
    "    \n",
    "def term_frequency(term, document, index):\n",
    "    words = get_total_number_words_in(document)\n",
    "    return len(index[term][document])/words\n",
    "\n",
    "def inverse_document_frequency(term, documents, index):\n",
    "    document_count = 0\n",
    "    for document in documents:\n",
    "        try:\n",
    "            index[term][document]\n",
    "        except:\n",
    "            continue\n",
    "        document_count += 1\n",
    "    return math.log(len(documents)/document_count,10)\n",
    "    \n",
    "documents = [\"bannlyst.txt\",\"gosta.txt\", \"herrgard.txt\", \"jerusalem.txt\", \"kejsaren.txt\", \"marbacka.txt\", \"nils.txt\", \"osynliga.txt\", \"troll.txt\"]\n",
    "term_frequency(\"et\", \"bannlyst.txt\", index)*inverse_document_frequency(\"et\", documents, index)\n",
    "\n",
    "\n"
   ]
  },
  {
   "cell_type": "code",
   "execution_count": null,
   "metadata": {
    "collapsed": true
   },
   "outputs": [],
   "source": []
  }
 ],
 "metadata": {
  "kernelspec": {
   "display_name": "Python 3",
   "language": "python",
   "name": "python3"
  },
  "language_info": {
   "codemirror_mode": {
    "name": "ipython",
    "version": 3
   },
   "file_extension": ".py",
   "mimetype": "text/x-python",
   "name": "python",
   "nbconvert_exporter": "python",
   "pygments_lexer": "ipython3",
   "version": "3.6.1"
  }
 },
 "nbformat": 4,
 "nbformat_minor": 2
}
