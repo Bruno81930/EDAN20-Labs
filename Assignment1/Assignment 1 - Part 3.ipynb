{
 "cells": [
  {
   "cell_type": "markdown",
   "metadata": {},
   "source": [
    "# Assignment 1: Building an inverted index"
   ]
  },
  {
   "cell_type": "markdown",
   "metadata": {},
   "source": [
    "## Part 3: Creating a master index"
   ]
  },
  {
   "cell_type": "markdown",
   "metadata": {},
   "source": [
    "Complete your program with the creation of master index, where you will associate each word of the corpus with the files, where it occur and its positions. (a posting list) "
   ]
  },
  {
   "cell_type": "code",
   "execution_count": 23,
   "metadata": {},
   "outputs": [],
   "source": [
    "import os\n",
    "import regex as re\n",
    "import pickle\n",
    "\n",
    "def get_files(dir, suffix):\n",
    "            files = []\n",
    "            for file in os.listdir(dir):\n",
    "                if file.endswith(suffix):\n",
    "                    files.append(file)\n",
    "            return files\n",
    "        \n",
    "index = dict()\n",
    "files = get_files(\"Selma\", \"txt\")\n",
    "\n",
    "for file_name in files:\n",
    "    with open('Selma/' + file_name) as myFile:\n",
    "        match_list = list(re.finditer(\"\\p{Latin}+\", myFile.read()))\n",
    "\n",
    "    for match in match_list:\n",
    "        match_word = match.group(0).lower()\n",
    "        match_pos = match.span(0)[0]\n",
    "        if match_word not in index:\n",
    "            index[match_word] = dict()\n",
    "        if file_name not in index[match_word]:\n",
    "            index[match_word][file_name] = list()\n",
    "        index[match_word][file_name].append(match_pos)\n",
    "\n",
    "pickle.dump(index, open('master_index.idx', \"wb\"))"
   ]
  }
 ],
 "metadata": {
  "kernelspec": {
   "display_name": "Python 3",
   "language": "python",
   "name": "python3"
  },
  "language_info": {
   "codemirror_mode": {
    "name": "ipython",
    "version": 3
   },
   "file_extension": ".py",
   "mimetype": "text/x-python",
   "name": "python",
   "nbconvert_exporter": "python",
   "pygments_lexer": "ipython3",
   "version": "3.6.1"
  }
 },
 "nbformat": 4,
 "nbformat_minor": 2
}
