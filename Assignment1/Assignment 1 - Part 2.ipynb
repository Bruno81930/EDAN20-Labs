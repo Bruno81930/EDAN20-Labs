{
 "cells": [
  {
   "cell_type": "markdown",
   "metadata": {},
   "source": [
    "# Assignment 1: Building an inverted index"
   ]
  },
  {
   "cell_type": "markdown",
   "metadata": {},
   "source": [
    "## Part 2: Reading the content of a folder"
   ]
  },
  {
   "cell_type": "markdown",
   "metadata": {},
   "source": [
    "Write a function that reads all the files in a folder with a specific suffix (txt). You will need the Python os package, see https://docs.python.org/3/library/os.html. You will return the file names in a list."
   ]
  },
  {
   "cell_type": "code",
   "execution_count": 3,
   "metadata": {},
   "outputs": [
    {
     "name": "stdout",
     "output_type": "stream",
     "text": [
      "['bannlyst.txt', 'gosta.txt', 'herrgard.txt', 'jerusalem.txt', 'kejsaren.txt', 'marbacka.txt', 'nils.txt', 'osynliga.txt', 'troll.txt']\n"
     ]
    }
   ],
   "source": [
    "import os\n",
    "import regex as re\n",
    "import pickle\n",
    "\n",
    "def get_files(dir, suffix):\n",
    "            files = []\n",
    "            for file in os.listdir(dir):\n",
    "                if file.endswith(suffix):\n",
    "                    files.append(file)\n",
    "            return files\n",
    "        \n",
    "index = dict()\n",
    "with open('Selma/bannlyst.txt') as myFile:\n",
    "    match_list = list(re.finditer(\"\\p{Latin}+\", myFile.read()))\n",
    "\n",
    "for match in match_list:\n",
    "    match_word = match.group(0)\n",
    "    match_pos = match.span(0)[0]\n",
    "    if match_word not in index:\n",
    "        index[match_word] = list()\n",
    "    index[match_word].append(match_pos)\n",
    "\n",
    "pickle.dump(index, open(\"bannlyst.idx\", \"wb\"))"
   ]
  }
 ],
 "metadata": {
  "kernelspec": {
   "display_name": "Python 3",
   "language": "python",
   "name": "python3"
  },
  "language_info": {
   "codemirror_mode": {
    "name": "ipython",
    "version": 3
   },
   "file_extension": ".py",
   "mimetype": "text/x-python",
   "name": "python",
   "nbconvert_exporter": "python",
   "pygments_lexer": "ipython3",
   "version": "3.6.1"
  }
 },
 "nbformat": 4,
 "nbformat_minor": 2
}
